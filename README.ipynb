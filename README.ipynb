{
 "cells": [
  {
   "cell_type": "markdown",
   "id": "8dd38e16",
   "metadata": {},
   "source": [
    "# Palindrome C# Coding Exercise\n",
    "\n",
    "## Introduction\n",
    "\n",
    "Thank you for visiting the Palindrome C# coding exercise.\n",
    "\n",
    "A *palindrome* is “a word, phrase, number, or other sequence of symbols or elements, whose meaning may be interpreted the same way in either forward or reverse direction.”\n",
    "\n",
    "The program shown below is intended to find the number of palindromes in a text file, “UKACD17.TXT” where each line in the file contains a single word or phrase. You have been assigned to do the code review for the program.\n",
    "\n",
    "## Code Review\n",
    "\n",
    "Take a look at the code below. *Without running it,* answer the questions that follow it."
   ]
  },
  {
   "cell_type": "code",
   "execution_count": null,
   "id": "bc6ffc45",
   "metadata": {
    "language_info": {
     "name": "polyglot-notebook"
    },
    "polyglot_notebook": {
     "kernelName": "csharp"
    }
   },
   "outputs": [],
   "source": [
    "namespace Palindrome;\n",
    "\n",
    "public class Program\n",
    "{\n",
    "    public static void Main()\n",
    "    {\n",
    "        int c = 0;\n",
    "\n",
    "        string[] l = File.ReadAllLines(\"UKACD17.TXT\");\n",
    "        for (int i = 0; i < l.Length; i++)\n",
    "        {\n",
    "            string ll = l[i];\n",
    "            if (T(ll))\n",
    "            {\n",
    "                Console.WriteLine(ll);\n",
    "                c++;\n",
    "            }\n",
    "        }\n",
    "\n",
    "        Console.WriteLine(\"Found {0} palindromes.\", c);\n",
    "        Console.ReadLine();\n",
    "    }\n",
    "\n",
    "    private static bool T(string s)\n",
    "    {\n",
    "        if (string.IsNullOrWhiteSpace(s)) return false;\n",
    "        return s.Length == 1 || (s[0] == s[s.Length - 1] && T(s.Substring(1, s.Length - 2)));\n",
    "    }\n",
    "}"
   ]
  },
  {
   "cell_type": "code",
   "execution_count": 1,
   "id": "14411e7d",
   "metadata": {
    "language_info": {
     "name": "polyglot-notebook"
    },
    "polyglot_notebook": {
     "kernelName": "csharp"
    }
   },
   "outputs": [
    {
     "data": {
      "text/html": [
       "<div><div></div><div></div><div><strong>Installed Packages</strong><ul><li><span>Microsoft.DotNet.Interactive.AspNetCore, 1.0.0-beta.25323.1</span></li></ul></div></div>"
      ]
     },
     "metadata": {},
     "output_type": "display_data"
    },
    {
     "data": {
      "text/plain": [
       "Loading extension script from `D:\\.nuget\\packages\\microsoft.dotnet.interactive.aspnetcore\\1.0.0-beta.25323.1\\interactive-extensions\\dotnet\\extension.dib`"
      ]
     },
     "metadata": {},
     "output_type": "display_data"
    },
    {
     "data": {
      "text/plain": [
       "You entered: Oliver and Oliver"
      ]
     },
     "metadata": {},
     "output_type": "display_data"
    }
   ],
   "source": [
    "#r \"nuget: Microsoft.DotNet.Interactive.AspNetCore, *-*\"\n",
    "\n",
    "var name = await Microsoft.DotNet.Interactive.Kernel.GetInputAsync(\"What is your name?\");\n",
    "var answer = await Microsoft.DotNet.Interactive.Kernel.GetInputAsync(\"What is your answer?\");\n",
    "\n",
    "display($\"You entered: {name} and {answer}\");"
   ]
  }
 ],
 "metadata": {
  "kernelspec": {
   "display_name": ".NET (C#)",
   "language": "C#",
   "name": ".net-csharp"
  },
  "language_info": {
   "name": "polyglot-notebook"
  },
  "polyglot_notebook": {
   "kernelInfo": {
    "defaultKernelName": "csharp",
    "items": [
     {
      "aliases": [],
      "name": "csharp"
     }
    ]
   }
  }
 },
 "nbformat": 4,
 "nbformat_minor": 5
}
